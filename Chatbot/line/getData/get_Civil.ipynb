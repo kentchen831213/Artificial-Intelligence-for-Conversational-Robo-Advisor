{
 "cells": [
  {
   "cell_type": "code",
   "execution_count": 1,
   "metadata": {},
   "outputs": [],
   "source": [
    "import requests\n",
    "from bs4 import BeautifulSoup\n",
    "import re\n",
    "\n"
   ]
  },
  {
   "cell_type": "code",
   "execution_count": 136,
   "metadata": {},
   "outputs": [],
   "source": [
    "def get_Civil(no):\n",
    "    r = requests.get('https://law.moj.gov.tw/LawClass/LawSingle.aspx?Pcode=B0000001&FLNO='+no)\n",
    "    soup = BeautifulSoup(r.text,'html.parser')\n",
    "    row = soup.find_all('table')[0].find_all('tr')[6].find_all('td')[2].find_all('pre')[0]\n",
    "    regex = re.compile(r'</?[^>]+>')\n",
    "    clean = regex.sub('',str(row))\n",
    "    return clean"
   ]
  },
  {
   "cell_type": "code",
   "execution_count": 137,
   "metadata": {},
   "outputs": [
    {
     "name": "stdout",
     "output_type": "stream",
     "text": [
      "民事，法律所未規定者，依習慣；無習慣者，依法理。\r\n",
      "\n"
     ]
    }
   ],
   "source": [
    "print(get_Civil('1'))"
   ]
  },
  {
   "cell_type": "code",
   "execution_count": 149,
   "metadata": {},
   "outputs": [],
   "source": [
    "def get_criminal(no):\n",
    "    r = requests.get('https://law.moj.gov.tw/LawClass/LawSingle.aspx?Pcode=C0000001&FLNO='+no)\n",
    "   \n",
    "    row = soup.find_all('table')[0].find_all('tr')[5].find_all('td')[2].find_all('pre')[0]\n",
    "    regex = re.compile(r'</?[^>]+>')\n",
    "    clean = regex.sub('',str(row))\n",
    "    return clean\n"
   ]
  },
  {
   "cell_type": "code",
   "execution_count": 150,
   "metadata": {},
   "outputs": [
    {
     "name": "stdout",
     "output_type": "stream",
     "text": [
      "行為之處罰，以行為時之法律有明文規定者為限。拘束人身自由之保安處\r\n",
      "分，亦同。\r\n",
      "\n"
     ]
    }
   ],
   "source": [
    "print(get_criminal('1'))\n"
   ]
  },
  {
   "cell_type": "code",
   "execution_count": 133,
   "metadata": {},
   "outputs": [],
   "source": [
    "# -*- coding: utf-8 -*-\n",
    "\n",
    "def wiki_search(query):\n",
    "    r = requests.get('https://zh.wikipedia.org/w/api.php?action=opensearch&search='+query+'&utf8')\n",
    "    r = r.text\n",
    "    r = r.split('[')[3]\n",
    "    r = r.split('。')[0]\n",
    "    r = r.split('）')[1]\n",
    "    r = re.sub('[\"，]',\"\",r,count=1)\n",
    "    print(r)"
   ]
  },
  {
   "cell_type": "code",
   "execution_count": 134,
   "metadata": {},
   "outputs": [
    {
     "name": "stdout",
     "output_type": "stream",
     "text": [
      "通稱台積電、台積或TSMC，與旗下公司合稱時則稱做台積電集團，是全球最大的晶圓代工半導體製造廠，其總部位於臺灣新竹新竹科學工業園區，主要廠房位於新竹、臺中、臺南等地區的科學園區\n"
     ]
    }
   ],
   "source": [
    "wiki_search('台灣積體電路')\n"
   ]
  },
  {
   "cell_type": "code",
   "execution_count": 10,
   "metadata": {},
   "outputs": [
    {
     "ename": "AttributeError",
     "evalue": "'NoneType' object has no attribute 'group'",
     "output_type": "error",
     "traceback": [
      "\u001b[1;31m---------------------------------------------------------------------------\u001b[0m",
      "\u001b[1;31mAttributeError\u001b[0m                            Traceback (most recent call last)",
      "\u001b[1;32m<ipython-input-10-933c169a1a4d>\u001b[0m in \u001b[0;36m<module>\u001b[1;34m()\u001b[0m\n\u001b[0;32m      1\u001b[0m \u001b[0mx\u001b[0m\u001b[1;33m=\u001b[0m\u001b[0mre\u001b[0m\u001b[1;33m.\u001b[0m\u001b[0mmatch\u001b[0m\u001b[1;33m(\u001b[0m\u001b[1;34m'(you)(and)'\u001b[0m\u001b[1;33m,\u001b[0m\u001b[1;34m'you and i'\u001b[0m\u001b[1;33m)\u001b[0m\u001b[1;33m\u001b[0m\u001b[0m\n\u001b[1;32m----> 2\u001b[1;33m \u001b[0mprint\u001b[0m\u001b[1;33m(\u001b[0m\u001b[0mx\u001b[0m\u001b[1;33m.\u001b[0m\u001b[0mgroup\u001b[0m\u001b[1;33m(\u001b[0m\u001b[1;36m1\u001b[0m\u001b[1;33m)\u001b[0m\u001b[1;33m)\u001b[0m\u001b[1;33m\u001b[0m\u001b[0m\n\u001b[0m",
      "\u001b[1;31mAttributeError\u001b[0m: 'NoneType' object has no attribute 'group'"
     ]
    }
   ],
   "source": [
    "x=re.match('(you)(and)','you and i')\n",
    "print(x.group(1))"
   ]
  },
  {
   "cell_type": "code",
   "execution_count": null,
   "metadata": {},
   "outputs": [],
   "source": []
  }
 ],
 "metadata": {
  "kernelspec": {
   "display_name": "Python 3",
   "language": "python",
   "name": "python3"
  },
  "language_info": {
   "codemirror_mode": {
    "name": "ipython",
    "version": 3
   },
   "file_extension": ".py",
   "mimetype": "text/x-python",
   "name": "python",
   "nbconvert_exporter": "python",
   "pygments_lexer": "ipython3",
   "version": "3.5.5"
  }
 },
 "nbformat": 4,
 "nbformat_minor": 2
}
