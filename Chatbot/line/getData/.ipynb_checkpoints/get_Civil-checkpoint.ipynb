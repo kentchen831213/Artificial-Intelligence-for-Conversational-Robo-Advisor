{
 "cells": [
  {
   "cell_type": "code",
   "execution_count": 1,
   "metadata": {},
   "outputs": [],
   "source": [
    "import requests\n",
    "from bs4 import BeautifulSoup\n",
    "import re\n",
    "\n"
   ]
  },
  {
   "cell_type": "code",
   "execution_count": 129,
   "metadata": {},
   "outputs": [],
   "source": [
    "def get_Civil(no):\n",
    "    r = requests.get('https://law.moj.gov.tw/LawClass/LawSingle.aspx?Pcode=B0000001&FLNO='+no)\n",
    "    soup = BeautifulSoup(r.text,'html.parser')\n",
    "    row = soup.find_all('table')[0].find_all('tr')[6].find_all('td')[2].find_all('pre')[0]\n",
    "    regex = re.compile(r'</?[^>]+>')\n",
    "    clean = regex.sub('',str(row))\n",
    "    return clean"
   ]
  },
  {
   "cell_type": "code",
   "execution_count": 130,
   "metadata": {},
   "outputs": [
    {
     "name": "stdout",
     "output_type": "stream",
     "text": [
      "民事，法律所未規定者，依習慣；無習慣者，依法理。\r\n",
      "\n"
     ]
    }
   ],
   "source": [
    "print(get_Civil('1'))"
   ]
  },
  {
   "cell_type": "code",
   "execution_count": null,
   "metadata": {},
   "outputs": [],
   "source": []
  }
 ],
 "metadata": {
  "kernelspec": {
   "display_name": "Python 3",
   "language": "python",
   "name": "python3"
  },
  "language_info": {
   "codemirror_mode": {
    "name": "ipython",
    "version": 3
   },
   "file_extension": ".py",
   "mimetype": "text/x-python",
   "name": "python",
   "nbconvert_exporter": "python",
   "pygments_lexer": "ipython3",
   "version": "3.5.5"
  }
 },
 "nbformat": 4,
 "nbformat_minor": 2
}
